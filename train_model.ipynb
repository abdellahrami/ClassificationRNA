{
 "cells": [
  {
   "cell_type": "code",
   "execution_count": 2,
   "metadata": {},
   "outputs": [],
   "source": [
    "import sys\n",
    "from math import exp\n",
    "import pandas as pd\n",
    "import os\n",
    "import numpy as np\n",
    "from sklearn.model_selection import train_test_split\n",
    "from sklearn.linear_model import LogisticRegression"
   ]
  },
  {
   "cell_type": "code",
   "execution_count": 4,
   "metadata": {},
   "outputs": [],
   "source": [
    "familys = [family for family in os.listdir('./data/') if len(family.split('.')) > 1 and family.split('.')[1] == 'txt' ]\n",
    "familys = [family.split('_')[0] for family in familys]\n",
    "\n",
    "familys_features = {family:[] for family in familys}\n",
    "\n",
    "range_k = [4,20]"
   ]
  },
  {
   "cell_type": "code",
   "execution_count": 5,
   "metadata": {},
   "outputs": [],
   "source": [
    "features_dict = {}\n",
    "features_dict['RF01047'] = ['AAGC', 'CAAG', 'AUGG', 'UGGA', 'AGCC', 'GGCU', 'UGGC', 'GUGC', 'CAUG', 'UCAA']\n",
    "features_dict['RF01051'] = ['CAAA', 'GCAA', 'GCAAA', 'CGCA', 'AAAG', 'CGCAA', 'CGCAAA', 'AAGC', 'CAAAG', 'AAAGC']\n",
    "features_dict['RF01055'] = ['GAAA', 'AAGG', 'CUCC', 'CCUC', 'AAAG', 'UCCC', 'AAAGG', 'AGGG', 'CCUCC', 'CUCCC']\n",
    "features_dict['RF01057'] = ['AGGC', 'GGCU', 'GAGG', 'AGGCU', 'GCUC', 'GGCUC', 'CGAG', 'AGGCUC', 'CUCG', 'CGAGG']\n",
    "features_dict['RF01065'] = ['CCGA', 'UUUU', 'CGAG', 'GCUG', 'UCCG', 'UUUUU', 'CUCC', 'CCGAG', 'CUCCG', 'UCGC']\n",
    "features_dict['RF01067'] = ['GUCC', 'UGUC', 'AGGU', 'UGUCC', 'UCUG', 'GGUC', 'CGCG', 'AGGUC', 'AUGU', 'CCCA']\n",
    "features_dict['RF01068'] = ['GACG', 'GGAC', 'GGACG', 'GGGA', 'ACGA', 'CGAC', 'GACGA', 'ACGAC', 'GACGAC', 'GGGAC']\n",
    "features_dict['RF01070'] = ['GCCG', 'GGUU', 'CGGU', 'CCGU', 'CGGA', 'CGUG', 'AACC', 'GCGG', 'UCCG', 'AAGG']\n",
    "features_dict['RF01072'] = ['AAAU', 'UAAA', 'UUAA', 'CUUA', 'UUAAA', 'UAAAU', 'CUUAA', 'UUAAAU', 'CUUAAA', 'AGUG']\n",
    "features_dict['RF01099'] = ['UCAA', 'GUCA', 'AUGU', 'AGGA', 'UGUC', 'CAAA', 'UGCA', 'GGAC', 'CAGG', 'GUCAA']"
   ]
  },
  {
   "cell_type": "code",
   "execution_count": 6,
   "metadata": {},
   "outputs": [],
   "source": [
    "features_list = np.concatenate(list(features_dict.values()))"
   ]
  },
  {
   "cell_type": "code",
   "execution_count": 7,
   "metadata": {},
   "outputs": [],
   "source": [
    "family_id={}\n",
    "family_id['RF01047'] = 1\n",
    "family_id['RF01051'] = 2\n",
    "family_id['RF01055'] = 3\n",
    "family_id['RF01057'] = 4\n",
    "family_id['RF01065'] = 5\n",
    "family_id['RF01067'] = 6\n",
    "family_id['RF01068'] = 7\n",
    "family_id['RF01070'] = 8\n",
    "family_id['RF01072'] = 9\n",
    "family_id['RF01099'] = 10"
   ]
  },
  {
   "cell_type": "code",
   "execution_count": 8,
   "metadata": {},
   "outputs": [
    {
     "data": {
      "text/html": [
       "<div>\n",
       "<style scoped>\n",
       "    .dataframe tbody tr th:only-of-type {\n",
       "        vertical-align: middle;\n",
       "    }\n",
       "\n",
       "    .dataframe tbody tr th {\n",
       "        vertical-align: top;\n",
       "    }\n",
       "\n",
       "    .dataframe thead th {\n",
       "        text-align: right;\n",
       "    }\n",
       "</style>\n",
       "<table border=\"1\" class=\"dataframe\">\n",
       "  <thead>\n",
       "    <tr style=\"text-align: right;\">\n",
       "      <th></th>\n",
       "      <th>AAGC</th>\n",
       "      <th>CAAG</th>\n",
       "      <th>AUGG</th>\n",
       "      <th>UGGA</th>\n",
       "      <th>AGCC</th>\n",
       "      <th>GGCU</th>\n",
       "      <th>UGGC</th>\n",
       "      <th>GUGC</th>\n",
       "      <th>CAUG</th>\n",
       "      <th>UCAA</th>\n",
       "      <th>...</th>\n",
       "      <th>AUGU</th>\n",
       "      <th>AGGA</th>\n",
       "      <th>UGUC</th>\n",
       "      <th>CAAA</th>\n",
       "      <th>UGCA</th>\n",
       "      <th>GGAC</th>\n",
       "      <th>CAGG</th>\n",
       "      <th>GUCAA</th>\n",
       "      <th>family</th>\n",
       "      <th>family_id</th>\n",
       "    </tr>\n",
       "  </thead>\n",
       "  <tbody>\n",
       "  </tbody>\n",
       "</table>\n",
       "<p>0 rows × 102 columns</p>\n",
       "</div>"
      ],
      "text/plain": [
       "Empty DataFrame\n",
       "Columns: [AAGC, CAAG, AUGG, UGGA, AGCC, GGCU, UGGC, GUGC, CAUG, UCAA, CAAA, GCAA, GCAAA, CGCA, AAAG, CGCAA, CGCAAA, AAGC, CAAAG, AAAGC, GAAA, AAGG, CUCC, CCUC, AAAG, UCCC, AAAGG, AGGG, CCUCC, CUCCC, AGGC, GGCU, GAGG, AGGCU, GCUC, GGCUC, CGAG, AGGCUC, CUCG, CGAGG, CCGA, UUUU, CGAG, GCUG, UCCG, UUUUU, CUCC, CCGAG, CUCCG, UCGC, GUCC, UGUC, AGGU, UGUCC, UCUG, GGUC, CGCG, AGGUC, AUGU, CCCA, GACG, GGAC, GGACG, GGGA, ACGA, CGAC, GACGA, ACGAC, GACGAC, GGGAC, GCCG, GGUU, CGGU, CCGU, CGGA, CGUG, AACC, GCGG, UCCG, AAGG, AAAU, UAAA, UUAA, CUUA, UUAAA, UAAAU, CUUAA, UUAAAU, CUUAAA, AGUG, UCAA, GUCA, AUGU, AGGA, UGUC, CAAA, UGCA, GGAC, CAGG, GUCAA, ...]\n",
       "Index: []\n",
       "\n",
       "[0 rows x 102 columns]"
      ]
     },
     "execution_count": 8,
     "metadata": {},
     "output_type": "execute_result"
    }
   ],
   "source": [
    "data = pd.DataFrame(columns=list(features_list)+['family']+['family_id'])\n",
    "data.head() "
   ]
  },
  {
   "cell_type": "code",
   "execution_count": 10,
   "metadata": {},
   "outputs": [],
   "source": [
    "for family in familys:\n",
    "    file = open('./data/'+family+\"_alignments.txt\",'r')\n",
    "    lines = [line.replace('\\n','').upper() for line in file]\n",
    "    lines = lines\n",
    "    for line in lines:\n",
    "        row = list(map(lambda x: int(x in line), features_list))+[family,family_id[family]]\n",
    "        row = pd.Series(row,index=list(features_list)+['family','family_id'])\n",
    "        data = data.append(row,ignore_index=True)\n"
   ]
  },
  {
   "cell_type": "code",
   "execution_count": 9,
   "metadata": {},
   "outputs": [
    {
     "data": {
      "text/html": [
       "<div>\n",
       "<style scoped>\n",
       "    .dataframe tbody tr th:only-of-type {\n",
       "        vertical-align: middle;\n",
       "    }\n",
       "\n",
       "    .dataframe tbody tr th {\n",
       "        vertical-align: top;\n",
       "    }\n",
       "\n",
       "    .dataframe thead th {\n",
       "        text-align: right;\n",
       "    }\n",
       "</style>\n",
       "<table border=\"1\" class=\"dataframe\">\n",
       "  <thead>\n",
       "    <tr style=\"text-align: right;\">\n",
       "      <th></th>\n",
       "      <th>AAGC</th>\n",
       "      <th>CAAG</th>\n",
       "      <th>AUGG</th>\n",
       "      <th>UGGA</th>\n",
       "      <th>AGCC</th>\n",
       "      <th>GGCU</th>\n",
       "      <th>UGGC</th>\n",
       "      <th>GUGC</th>\n",
       "      <th>CAUG</th>\n",
       "      <th>UCAA</th>\n",
       "      <th>...</th>\n",
       "      <th>AUGU.1</th>\n",
       "      <th>AGGA</th>\n",
       "      <th>UGUC.1</th>\n",
       "      <th>CAAA.1</th>\n",
       "      <th>UGCA</th>\n",
       "      <th>GGAC.1</th>\n",
       "      <th>CAGG</th>\n",
       "      <th>GUCAA</th>\n",
       "      <th>family</th>\n",
       "      <th>family_id</th>\n",
       "    </tr>\n",
       "  </thead>\n",
       "  <tbody>\n",
       "    <tr>\n",
       "      <th>0</th>\n",
       "      <td>1</td>\n",
       "      <td>1</td>\n",
       "      <td>0</td>\n",
       "      <td>0</td>\n",
       "      <td>0</td>\n",
       "      <td>0</td>\n",
       "      <td>1</td>\n",
       "      <td>0</td>\n",
       "      <td>0</td>\n",
       "      <td>1</td>\n",
       "      <td>...</td>\n",
       "      <td>0</td>\n",
       "      <td>1</td>\n",
       "      <td>0</td>\n",
       "      <td>0</td>\n",
       "      <td>0</td>\n",
       "      <td>1</td>\n",
       "      <td>1</td>\n",
       "      <td>0</td>\n",
       "      <td>RF01047</td>\n",
       "      <td>1</td>\n",
       "    </tr>\n",
       "    <tr>\n",
       "      <th>1</th>\n",
       "      <td>0</td>\n",
       "      <td>0</td>\n",
       "      <td>1</td>\n",
       "      <td>1</td>\n",
       "      <td>0</td>\n",
       "      <td>1</td>\n",
       "      <td>1</td>\n",
       "      <td>0</td>\n",
       "      <td>1</td>\n",
       "      <td>0</td>\n",
       "      <td>...</td>\n",
       "      <td>1</td>\n",
       "      <td>0</td>\n",
       "      <td>1</td>\n",
       "      <td>0</td>\n",
       "      <td>0</td>\n",
       "      <td>0</td>\n",
       "      <td>0</td>\n",
       "      <td>0</td>\n",
       "      <td>RF01047</td>\n",
       "      <td>1</td>\n",
       "    </tr>\n",
       "    <tr>\n",
       "      <th>2</th>\n",
       "      <td>1</td>\n",
       "      <td>0</td>\n",
       "      <td>1</td>\n",
       "      <td>0</td>\n",
       "      <td>1</td>\n",
       "      <td>1</td>\n",
       "      <td>0</td>\n",
       "      <td>1</td>\n",
       "      <td>1</td>\n",
       "      <td>0</td>\n",
       "      <td>...</td>\n",
       "      <td>1</td>\n",
       "      <td>0</td>\n",
       "      <td>1</td>\n",
       "      <td>1</td>\n",
       "      <td>0</td>\n",
       "      <td>0</td>\n",
       "      <td>0</td>\n",
       "      <td>0</td>\n",
       "      <td>RF01047</td>\n",
       "      <td>1</td>\n",
       "    </tr>\n",
       "    <tr>\n",
       "      <th>3</th>\n",
       "      <td>1</td>\n",
       "      <td>1</td>\n",
       "      <td>0</td>\n",
       "      <td>1</td>\n",
       "      <td>1</td>\n",
       "      <td>0</td>\n",
       "      <td>1</td>\n",
       "      <td>1</td>\n",
       "      <td>0</td>\n",
       "      <td>0</td>\n",
       "      <td>...</td>\n",
       "      <td>0</td>\n",
       "      <td>0</td>\n",
       "      <td>0</td>\n",
       "      <td>0</td>\n",
       "      <td>0</td>\n",
       "      <td>0</td>\n",
       "      <td>0</td>\n",
       "      <td>0</td>\n",
       "      <td>RF01047</td>\n",
       "      <td>1</td>\n",
       "    </tr>\n",
       "    <tr>\n",
       "      <th>4</th>\n",
       "      <td>0</td>\n",
       "      <td>1</td>\n",
       "      <td>1</td>\n",
       "      <td>1</td>\n",
       "      <td>0</td>\n",
       "      <td>1</td>\n",
       "      <td>1</td>\n",
       "      <td>0</td>\n",
       "      <td>0</td>\n",
       "      <td>1</td>\n",
       "      <td>...</td>\n",
       "      <td>0</td>\n",
       "      <td>0</td>\n",
       "      <td>0</td>\n",
       "      <td>0</td>\n",
       "      <td>0</td>\n",
       "      <td>1</td>\n",
       "      <td>1</td>\n",
       "      <td>0</td>\n",
       "      <td>RF01047</td>\n",
       "      <td>1</td>\n",
       "    </tr>\n",
       "  </tbody>\n",
       "</table>\n",
       "<p>5 rows × 102 columns</p>\n",
       "</div>"
      ],
      "text/plain": [
       "   AAGC  CAAG  AUGG  UGGA  AGCC  GGCU  UGGC  GUGC  CAUG  UCAA    ...      \\\n",
       "0     1     1     0     0     0     0     1     0     0     1    ...       \n",
       "1     0     0     1     1     0     1     1     0     1     0    ...       \n",
       "2     1     0     1     0     1     1     0     1     1     0    ...       \n",
       "3     1     1     0     1     1     0     1     1     0     0    ...       \n",
       "4     0     1     1     1     0     1     1     0     0     1    ...       \n",
       "\n",
       "   AUGU.1  AGGA  UGUC.1  CAAA.1  UGCA  GGAC.1  CAGG  GUCAA   family  family_id  \n",
       "0       0     1       0       0     0       1     1      0  RF01047          1  \n",
       "1       1     0       1       0     0       0     0      0  RF01047          1  \n",
       "2       1     0       1       1     0       0     0      0  RF01047          1  \n",
       "3       0     0       0       0     0       0     0      0  RF01047          1  \n",
       "4       0     0       0       0     0       1     1      0  RF01047          1  \n",
       "\n",
       "[5 rows x 102 columns]"
      ]
     },
     "execution_count": 9,
     "metadata": {},
     "output_type": "execute_result"
    }
   ],
   "source": [
    "# data.to_csv('./data/Dataset.csv',index=False)\n",
    "data = pd.read_csv('./data/Dataset.csv')\n",
    "data.head()"
   ]
  },
  {
   "cell_type": "code",
   "execution_count": 10,
   "metadata": {},
   "outputs": [],
   "source": [
    "X_train,X_test,y_train,y_test = train_test_split(data.drop(columns=['family','family_id']),data.family_id, test_size=0.3)"
   ]
  },
  {
   "cell_type": "code",
   "execution_count": 11,
   "metadata": {},
   "outputs": [],
   "source": [
    "clf = LogisticRegression(random_state=0,max_iter=1000).fit(X_train.astype('int'), y_train.astype('int'))"
   ]
  },
  {
   "cell_type": "code",
   "execution_count": 12,
   "metadata": {},
   "outputs": [
    {
     "data": {
      "text/plain": [
       "0.9050652107976949"
      ]
     },
     "execution_count": 12,
     "metadata": {},
     "output_type": "execute_result"
    }
   ],
   "source": [
    "clf.score(X_test.astype('int'),y_test.astype('int'))"
   ]
  },
  {
   "cell_type": "code",
   "execution_count": 125,
   "metadata": {},
   "outputs": [],
   "source": [
    "y_pred = clf.predict(X_test.astype('int'))\n",
    "a = [0]*10\n",
    "for r,p in zip(y_pred,y_test.astype('int')):\n",
    "    if r!=p:\n",
    "        a[p-1] +=1\n"
   ]
  },
  {
   "cell_type": "code",
   "execution_count": 106,
   "metadata": {},
   "outputs": [
    {
     "name": "stdout",
     "output_type": "stream",
     "text": [
      "classe 1 -> RF01047 :  36 false predictions\n",
      "classe 2 -> RF01051 :  31 false predictions\n",
      "classe 3 -> RF01055 :  45 false predictions\n",
      "classe 4 -> RF01057 :  25 false predictions\n",
      "classe 5 -> RF01065 :  63 false predictions\n",
      "classe 6 -> RF01067 :  51 false predictions\n",
      "classe 7 -> RF01068 :  2 false predictions\n",
      "classe 8 -> RF01070 :  55 false predictions\n",
      "classe 9 -> RF01072 :  1 false predictions\n",
      "classe 10 -> RF01099 :  15 false predictions\n"
     ]
    }
   ],
   "source": [
    "familys_name = {k:v for v,k in family_id.items()}\n",
    "for i in range(10):\n",
    "    print(\"classe {} -> {} :  {} false predictions\".format(i+1,familys_name[i+1],a[i]))"
   ]
  },
  {
   "cell_type": "code",
   "execution_count": 121,
   "metadata": {},
   "outputs": [
    {
     "name": "stdout",
     "output_type": "stream",
     "text": [
      "classe 1 -> RF01047 :  38 false predictions\n",
      "classe 2 -> RF01051 :  29 false predictions\n",
      "classe 3 -> RF01055 :  33 false predictions\n",
      "classe 4 -> RF01057 :  19 false predictions\n",
      "classe 5 -> RF01065 :  79 false predictions\n",
      "classe 6 -> RF01067 :  38 false predictions\n",
      "classe 7 -> RF01068 :  2 false predictions\n",
      "classe 8 -> RF01070 :  47 false predictions\n",
      "classe 9 -> RF01072 :  4 false predictions\n",
      "classe 10 -> RF01099 :  8 false predictions\n"
     ]
    }
   ],
   "source": [
    "familys_name = {k:v for v,k in family_id.items()}\n",
    "for i in range(10):\n",
    "    print(\"classe {} -> {} :  {} false predictions\".format(i+1,familys_name[i+1],a[i]))"
   ]
  },
  {
   "cell_type": "code",
   "execution_count": 126,
   "metadata": {},
   "outputs": [
    {
     "name": "stdout",
     "output_type": "stream",
     "text": [
      "classe 1 -> RF01047 :  42 false predictions\n",
      "classe 2 -> RF01051 :  33 false predictions\n",
      "classe 3 -> RF01055 :  29 false predictions\n",
      "classe 4 -> RF01057 :  25 false predictions\n",
      "classe 5 -> RF01065 :  56 false predictions\n",
      "classe 6 -> RF01067 :  35 false predictions\n",
      "classe 7 -> RF01068 :  4 false predictions\n",
      "classe 8 -> RF01070 :  66 false predictions\n",
      "classe 9 -> RF01072 :  0 false predictions\n",
      "classe 10 -> RF01099 :  20 false predictions\n"
     ]
    }
   ],
   "source": [
    "familys_name = {k:v for v,k in family_id.items()}\n",
    "for i in range(10):\n",
    "    print(\"classe {} -> {} :  {} false predictions\".format(i+1,familys_name[i+1],a[i]))"
   ]
  },
  {
   "cell_type": "code",
   "execution_count": 13,
   "metadata": {},
   "outputs": [],
   "source": [
    "mean_length = {}\n",
    "for family in familys:\n",
    "    length = 0\n",
    "    file = open('./data/'+family+\"_alignments.txt\",'r')\n",
    "    lines = [line.replace('\\n','').upper() for line in file]\n",
    "    lines = lines[:300]\n",
    "    for line in lines:\n",
    "        length += len(line.replace('-',''))\n",
    "    mean_length[family] = length//300"
   ]
  },
  {
   "cell_type": "code",
   "execution_count": 14,
   "metadata": {},
   "outputs": [
    {
     "data": {
      "text/plain": [
       "{'RF01047': 63,\n",
       " 'RF01051': 90,\n",
       " 'RF01055': 147,\n",
       " 'RF01057': 89,\n",
       " 'RF01065': 103,\n",
       " 'RF01067': 93,\n",
       " 'RF01068': 48,\n",
       " 'RF01070': 84,\n",
       " 'RF01072': 31,\n",
       " 'RF01099': 48}"
      ]
     },
     "execution_count": 14,
     "metadata": {},
     "output_type": "execute_result"
    }
   ],
   "source": [
    "mean_length"
   ]
  },
  {
   "cell_type": "code",
   "execution_count": 15,
   "metadata": {},
   "outputs": [],
   "source": [
    "cons_line = {}\n",
    "cons_line['RF01047'] = 'UGUuCAUGuCCcACUGUUCAAGCCuCCAAGCUGUGCCUUGGgUGGCUUUgGGgCAUGgACA'\n",
    "cons_line['RF01051'] = 'uaaugaaAAaGGCAAAcccg.c.c.GAA...A.ggcgggGACGCAAAgCca..c.gGguCUA.Aggccc...gaaa.................................gg.gcuAuGacAGCcg.gGcUGCCgaa'\n",
    "cons_line['RF01055'] = 'auucacauaaaaCuC.Cg.AGCcuaa.c.c.acCUA.Agucg....aaag...................................cgauAuGgugguuagGCC....guggcuau..........................................................uagccac..cAGGGcga.ag...uu.gGAAAcaacuucgCCUCC.CGUaUU..U.GGAAAGGaG.u.uuaaggagaaauaaa'\n",
    "cons_line['RF01057'] = 'C...ccu.CCGAGGAGCGCUGCAACgggccu..............................................uuucggcccGCCAGGCUCGGaggg.g.....................................uaaa.....ucuaCAAC.GGCGCUCauuCaca' \n",
    "cons_line['RF01065'] = 'uc.uUcguuaguuuucauCa....aaccUgUUa......uGaugaaagcua.acgAagaaua..uuCAuUAaCgccgcugcucGCuGaGcuugACuCCgagcagcggcGuUUUUUU'\n",
    "cons_line['RF01067'] = '.U.ucgccaaaagucggcga..UCUGGCaAAAuAucUaaucGCGc....AGGuCcGaaaau....aauCgGaCCCauccuuaaaaaa......aaggauGU.CCca..gCGCg'\n",
    "cons_line['RF01068'] = 'ccgcggGGACGACCcc.gcggCucaccgauuuacc......cgGGGACGACCCcg'\n",
    "cons_line['RF01070'] = 'ucGCaAUCCGCuAAaCGGucaAgCCGUGUcGCGGAAGGUUuuuu...........AACC..cgcuaau.gcuccggaAa..ccgg.agcgaA.ggugA.GCg'\n",
    "cons_line['RF01072'] = 'AGUG..UUUUUCcCUCCACUUAAAUCGAAGgGu'\n",
    "cons_line['RF01099'] = 'UuCCAGGACAUACUGauGAGGAUGUCAAAAAUGCAAUUGGaGUCCUCA'"
   ]
  },
  {
   "cell_type": "code",
   "execution_count": 17,
   "metadata": {},
   "outputs": [],
   "source": [
    "conservation = {}\n",
    "upcase = ['A','C','G','U']\n",
    "lowcase = ['a','c','g','u']\n",
    "for k,v in cons_line.items():\n",
    "    cons = v.replace(\".\",\"\")\n",
    "    upper = sum([ 1 for i in cons if i in upcase])\n",
    "    conservation[k] = upper/len(cons)"
   ]
  },
  {
   "cell_type": "code",
   "execution_count": 19,
   "metadata": {},
   "outputs": [
    {
     "data": {
      "text/plain": [
       "{'RF01047': 0.8688524590163934,\n",
       " 'RF01051': 0.41379310344827586,\n",
       " 'RF01055': 0.3111111111111111,\n",
       " 'RF01057': 0.5256410256410257,\n",
       " 'RF01065': 0.2647058823529412,\n",
       " 'RF01067': 0.34782608695652173,\n",
       " 'RF01068': 0.3958333333333333,\n",
       " 'RF01070': 0.46987951807228917,\n",
       " 'RF01072': 0.9032258064516129,\n",
       " 'RF01099': 0.9166666666666666}"
      ]
     },
     "execution_count": 19,
     "metadata": {},
     "output_type": "execute_result"
    }
   ],
   "source": [
    "conservation"
   ]
  },
  {
   "cell_type": "code",
   "execution_count": 30,
   "metadata": {},
   "outputs": [],
   "source": [
    "indicateur = { b[0]:b[1]/a[1] for a,b in zip(conservation.items(),mean_length.items())}"
   ]
  },
  {
   "cell_type": "code",
   "execution_count": 21,
   "metadata": {},
   "outputs": [
    {
     "data": {
      "text/plain": [
       "{'RF01047': 72.50943396226415,\n",
       " 'RF01051': 217.5,\n",
       " 'RF01055': 472.5,\n",
       " 'RF01057': 169.3170731707317,\n",
       " 'RF01065': 389.1111111111111,\n",
       " 'RF01067': 267.375,\n",
       " 'RF01068': 121.26315789473685,\n",
       " 'RF01070': 178.76923076923077,\n",
       " 'RF01072': 34.32142857142857,\n",
       " 'RF01099': 52.36363636363637}"
      ]
     },
     "execution_count": 21,
     "metadata": {},
     "output_type": "execute_result"
    }
   ],
   "source": [
    "indicateur"
   ]
  },
  {
   "cell_type": "code",
   "execution_count": 22,
   "metadata": {},
   "outputs": [
    {
     "data": {
      "text/plain": [
       "{'RF01047': 38.666666666666664,\n",
       " 'RF01051': 31.0,\n",
       " 'RF01055': 35.666666666666664,\n",
       " 'RF01057': 23.0,\n",
       " 'RF01065': 66.0,\n",
       " 'RF01067': 41.333333333333336,\n",
       " 'RF01068': 2.6666666666666665,\n",
       " 'RF01070': 56.0,\n",
       " 'RF01072': 1.6666666666666667,\n",
       " 'RF01099': 14.333333333333334}"
      ]
     },
     "execution_count": 22,
     "metadata": {},
     "output_type": "execute_result"
    }
   ],
   "source": [
    "mean_error = {}\n",
    "mean_error['RF01047'] = ( 36 + 38 + 42 ) / 3\n",
    "mean_error['RF01051'] = ( 31 + 29 + 33 ) / 3\n",
    "mean_error['RF01055'] = ( 45 + 33 + 29 ) / 3\n",
    "mean_error['RF01057'] = ( 25 + 19 + 25 ) / 3\n",
    "mean_error['RF01065'] = ( 63 + 79 + 56 ) / 3\n",
    "mean_error['RF01067'] = ( 51 + 38 + 35 ) / 3\n",
    "mean_error['RF01068'] = ( 2 + 2 + 4 ) / 3\n",
    "mean_error['RF01070'] = ( 55 + 47 + 66 ) / 3\n",
    "mean_error['RF01072'] = ( 1 + 4 + 0 ) / 3\n",
    "mean_error['RF01099'] = ( 15 + 8 + 20 ) / 3\n",
    "mean_error"
   ]
  },
  {
   "cell_type": "code",
   "execution_count": 31,
   "metadata": {},
   "outputs": [
    {
     "data": {
      "text/plain": [
       "array([[1.        , 0.61235617],\n",
       "       [0.61235617, 1.        ]])"
      ]
     },
     "execution_count": 31,
     "metadata": {},
     "output_type": "execute_result"
    }
   ],
   "source": [
    "np.corrcoef(list(mean_error.values()),list(indicateur.values()))"
   ]
  }
 ],
 "metadata": {
  "kernelspec": {
   "display_name": "Python 3",
   "language": "python",
   "name": "python3"
  },
  "language_info": {
   "codemirror_mode": {
    "name": "ipython",
    "version": 3
   },
   "file_extension": ".py",
   "mimetype": "text/x-python",
   "name": "python",
   "nbconvert_exporter": "python",
   "pygments_lexer": "ipython3",
   "version": "3.6.5"
  }
 },
 "nbformat": 4,
 "nbformat_minor": 4
}
